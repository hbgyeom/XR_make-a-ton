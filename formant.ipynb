{
 "cells": [
  {
   "cell_type": "markdown",
   "metadata": {},
   "source": [
    "### 참고링크\n",
    "청각장애 발음 예시 https://www.youtube.com/watch?v=oqghQ0EpH78\n",
    "\n",
    "\n",
    "음성 데이터 https://www.aihub.or.kr/aihubdata/data/view.do?currMenu=115&topMenu=100&dataSetSn=608\n",
    "\n",
    "자음 분석 pdf https://jslhd.org/xml/20731/20731.pdf\n"
   ]
  },
  {
   "cell_type": "code",
   "execution_count": 31,
   "metadata": {},
   "outputs": [
    {
     "name": "stdout",
     "output_type": "stream",
     "text": [
      "Requirement already satisfied: torch in c:\\programdata\\anaconda3\\lib\\site-packages (1.5.0)\n",
      "Requirement already satisfied: torchvision in c:\\programdata\\anaconda3\\lib\\site-packages (0.6.0)\n",
      "Collecting torchaudio\n",
      "  Using cached torchaudio-0.13.1-cp37-cp37m-win_amd64.whl.metadata (1.2 kB)\n",
      "Requirement already satisfied: future in c:\\programdata\\anaconda3\\lib\\site-packages (from torch) (0.18.2)\n",
      "Requirement already satisfied: numpy in c:\\programdata\\anaconda3\\lib\\site-packages (from torch) (1.21.6)\n",
      "Requirement already satisfied: pillow>=4.1.1 in c:\\users\\calis\\appdata\\roaming\\python\\python37\\site-packages (from torchvision) (9.5.0)\n",
      "INFO: pip is looking at multiple versions of torchaudio to determine which version is compatible with other requirements. This could take a while.\n",
      "  Downloading torchaudio-0.13.0-cp37-cp37m-win_amd64.whl.metadata (998 bytes)\n",
      "  Downloading torchaudio-0.12.1-cp37-cp37m-win_amd64.whl.metadata (1.0 kB)\n",
      "  Downloading torchaudio-0.12.0-cp37-cp37m-win_amd64.whl.metadata (1.0 kB)\n",
      "  Downloading torchaudio-0.11.0-cp37-cp37m-win_amd64.whl.metadata (1.0 kB)\n",
      "  Downloading torchaudio-0.10.2-cp37-cp37m-win_amd64.whl.metadata (1.1 kB)\n",
      "  Downloading torchaudio-0.10.1-cp37-cp37m-win_amd64.whl.metadata (1.1 kB)\n",
      "  Downloading torchaudio-0.10.0-cp37-cp37m-win_amd64.whl.metadata (1.1 kB)\n",
      "INFO: pip is still looking at multiple versions of torchaudio to determine which version is compatible with other requirements. This could take a while.\n",
      "  Downloading torchaudio-0.9.1-cp37-cp37m-win_amd64.whl.metadata (1.1 kB)\n",
      "  Downloading torchaudio-0.9.0-cp37-cp37m-win_amd64.whl.metadata (1.1 kB)\n",
      "  Downloading torchaudio-0.8.1-cp37-none-win_amd64.whl.metadata (1.1 kB)\n",
      "  Downloading torchaudio-0.8.0-cp37-none-win_amd64.whl.metadata (1.1 kB)\n",
      "Collecting torchvision\n",
      "  Downloading torchvision-0.14.1-cp37-cp37m-win_amd64.whl.metadata (11 kB)\n",
      "Requirement already satisfied: typing-extensions in c:\\programdata\\anaconda3\\lib\\site-packages (from torchvision) (4.7.1)\n",
      "Requirement already satisfied: requests in c:\\programdata\\anaconda3\\lib\\site-packages (from torchvision) (2.31.0)\n",
      "Collecting torch\n",
      "  Using cached torch-1.13.1-cp37-cp37m-win_amd64.whl.metadata (23 kB)\n",
      "Requirement already satisfied: charset-normalizer<4,>=2 in c:\\programdata\\anaconda3\\lib\\site-packages (from requests->torchvision) (3.4.0)\n",
      "Requirement already satisfied: idna<4,>=2.5 in c:\\programdata\\anaconda3\\lib\\site-packages (from requests->torchvision) (2.8)\n",
      "Requirement already satisfied: urllib3<3,>=1.21.1 in c:\\programdata\\anaconda3\\lib\\site-packages (from requests->torchvision) (1.25.8)\n",
      "Requirement already satisfied: certifi>=2017.4.17 in c:\\programdata\\anaconda3\\lib\\site-packages (from requests->torchvision) (2019.11.28)\n",
      "Downloading torchvision-0.14.1-cp37-cp37m-win_amd64.whl (1.1 MB)\n",
      "   ---------------------------------------- 1.1/1.1 MB 2.8 MB/s eta 0:00:00\n",
      "Downloading torch-1.13.1-cp37-cp37m-win_amd64.whl (162.6 MB)\n",
      "   ---------------------------------------- 162.6/162.6 MB 2.5 MB/s eta 0:00:00\n",
      "Downloading torchaudio-0.13.1-cp37-cp37m-win_amd64.whl (2.0 MB)\n",
      "   ---------------------------------------- 2.0/2.0 MB 4.3 MB/s eta 0:00:00\n",
      "Installing collected packages: torch, torchvision, torchaudio\n",
      "  Attempting uninstall: torch\n",
      "    Found existing installation: torch 1.5.0\n",
      "    Uninstalling torch-1.5.0:\n",
      "      Successfully uninstalled torch-1.5.0\n",
      "  Attempting uninstall: torchvision\n",
      "    Found existing installation: torchvision 0.6.0\n",
      "    Uninstalling torchvision-0.6.0:\n",
      "      Successfully uninstalled torchvision-0.6.0\n",
      "Successfully installed torch-1.13.1 torchaudio-0.13.1 torchvision-0.14.1\n",
      "Note: you may need to restart the kernel to use updated packages.\n"
     ]
    },
    {
     "name": "stderr",
     "output_type": "stream",
     "text": [
      "WARNING: Ignoring invalid distribution -sgpack (c:\\programdata\\anaconda3\\lib\\site-packages)\n",
      "WARNING: Ignoring invalid distribution -sgpack (c:\\programdata\\anaconda3\\lib\\site-packages)\n",
      "DEPRECATION: pyodbc 4.0.0-unsupported has a non-standard version number. pip 24.1 will enforce this behaviour change. A possible replacement is to upgrade to a newer version of pyodbc or contact the author to suggest that they release a version with a conforming version number. Discussion can be found at https://github.com/pypa/pip/issues/12063\n"
     ]
    }
   ],
   "source": [
    "\n",
    "pip install torch torchvision torchaudio"
   ]
  },
  {
   "cell_type": "code",
   "execution_count": 30,
   "metadata": {
    "scrolled": true
   },
   "outputs": [
    {
     "ename": "ModuleNotFoundError",
     "evalue": "No module named 'speech_recognition'",
     "output_type": "error",
     "traceback": [
      "\u001b[1;31m---------------------------------------------------------------------------\u001b[0m",
      "\u001b[1;31mModuleNotFoundError\u001b[0m                       Traceback (most recent call last)",
      "\u001b[1;32m<ipython-input-30-7510a1d6857b>\u001b[0m in \u001b[0;36m<module>\u001b[1;34m\u001b[0m\n\u001b[1;32m----> 1\u001b[1;33m \u001b[1;32mimport\u001b[0m \u001b[0mspeech_recognition\u001b[0m \u001b[1;32mas\u001b[0m \u001b[0msr\u001b[0m\u001b[1;33m\u001b[0m\u001b[1;33m\u001b[0m\u001b[0m\n\u001b[0m\u001b[0;32m      2\u001b[0m \u001b[1;33m\u001b[0m\u001b[0m\n\u001b[0;32m      3\u001b[0m \u001b[1;31m# Create a recognizer instance\u001b[0m\u001b[1;33m\u001b[0m\u001b[1;33m\u001b[0m\u001b[1;33m\u001b[0m\u001b[0m\n\u001b[0;32m      4\u001b[0m \u001b[0mrecognizer\u001b[0m \u001b[1;33m=\u001b[0m \u001b[0msr\u001b[0m\u001b[1;33m.\u001b[0m\u001b[0mRecognizer\u001b[0m\u001b[1;33m(\u001b[0m\u001b[1;33m)\u001b[0m\u001b[1;33m\u001b[0m\u001b[1;33m\u001b[0m\u001b[0m\n\u001b[0;32m      5\u001b[0m \u001b[1;33m\u001b[0m\u001b[0m\n",
      "\u001b[1;31mModuleNotFoundError\u001b[0m: No module named 'speech_recognition'"
     ]
    }
   ],
   "source": [
    "import speech_recognition as sr\n",
    "\n",
    "# Create a recognizer instance\n",
    "recognizer = sr.Recognizer()\n",
    "\n",
    "# Function to recognize and parse speech\n",
    "def recognize_and_parse():\n",
    "    with sr.Microphone() as source:\n",
    "        print(\"Listening...\")\n",
    "        while True:\n",
    "            try:\n",
    "                # Adjust for ambient noise and listen for audio\n",
    "                recognizer.adjust_for_ambient_noise(source)\n",
    "                audio = recognizer.listen(source)\n",
    "\n",
    "                # Recognize speech using Google Web Speech API\n",
    "                text = recognizer.recognize_google(audio, language='ko-KR')  # Set language to Korean\n",
    "                print(f\"Recognized: {text}\")\n",
    "\n",
    "                # Here you can add your parsing logic\n",
    "                parse_text(text)\n",
    "\n",
    "            except sr.UnknownValueError:\n",
    "                print(\"Sorry, I could not understand the audio.\")\n",
    "            except sr.RequestError as e:\n",
    "                print(f\"Could not request results from Google Speech Recognition service; {e}\")\n",
    "            except KeyboardInterrupt:\n",
    "                print(\"Exiting...\")\n",
    "                break\n",
    "\n",
    "# Function to parse recognized text\n",
    "def parse_text(text):\n",
    "    # Example parsing logic\n",
    "    # Here, you can implement your custom logic to handle the recognized text\n",
    "    print(f\"Parsing text: {text}\")\n",
    "    # For demonstration, we just print it\n",
    "\n",
    "if __name__ == \"__main__\":\n",
    "    recognize_and_parse()\n"
   ]
  },
  {
   "cell_type": "code",
   "execution_count": 27,
   "metadata": {
    "scrolled": false
   },
   "outputs": [
    {
     "data": {
      "image/png": "[encoded data removed]",
      "text/plain": [
       "<Figure size 720x432 with 1 Axes>"
      ]
     },
     "metadata": {
      "needs_background": "light"
     },
     "output_type": "display_data"
    }
   ],
   "source": [
    "import parselmouth\n",
    "import numpy as np\n",
    "import matplotlib.pyplot as plt\n",
    "from gtts import gTTS\n",
    "from pydub import AudioSegment\n",
    "import os\n",
    "import io\n",
    "\n",
    "text = \"Play some music for me.\"\n",
    "tts = gTTS(text=text, lang='en')\n",
    "tts.save(\"audio.mp3\")\n",
    "\n",
    "\n",
    "# 음성 파일 로드\n",
    "snd = parselmouth.Sound(\"audio.mp3\")\n",
    "\n",
    "# 피치 추출\n",
    "pitch = snd.to_pitch()\n",
    "pitch_values = pitch.selected_array['frequency']  # Hz 단위 피치 값\n",
    "pitch_values[pitch_values == 0] = np.nan  # 무성구간을 NaN으로 표시하여 그래프에서 제외\n",
    "time_pitch = pitch.xs()  # 피치의 시간 값\n",
    "\n",
    "# 피치 그래프 그리기\n",
    "plt.figure(figsize=(10, 6))\n",
    "plt.plot(time_pitch, pitch_values, 'o', markersize=3, color='b')\n",
    "plt.xlabel(\"Time (s)\")\n",
    "plt.ylabel(\"Pitch (Hz)\")\n",
    "plt.title(\"Pitch over time\")\n",
    "plt.tight_layout()\n",
    "\n",
    "# 그래프 출력\n",
    "plt.show()"
   ]
  },
  {
   "cell_type": "code",
   "execution_count": 12,
   "metadata": {},
   "outputs": [
    {
     "data": {
      "text/plain": [
       "<gtts.tts.gTTS at 0x2585cf29d48>"
      ]
     },
     "execution_count": 12,
     "metadata": {},
     "output_type": "execute_result"
    }
   ],
   "source": [
    "tts"
   ]
  },
  {
   "cell_type": "code",
   "execution_count": 9,
   "metadata": {},
   "outputs": [
    {
     "name": "stdout",
     "output_type": "stream",
     "text": [
      "Collecting pydub\n",
      "  Downloading pydub-0.25.1-py2.py3-none-any.whl.metadata (1.4 kB)\n",
      "Downloading pydub-0.25.1-py2.py3-none-any.whl (32 kB)\n",
      "Installing collected packages: pydub\n",
      "Successfully installed pydub-0.25.1\n",
      "Note: you may need to restart the kernel to use updated packages.\n"
     ]
    },
    {
     "name": "stderr",
     "output_type": "stream",
     "text": [
      "WARNING: Ignoring invalid distribution -sgpack (c:\\programdata\\anaconda3\\lib\\site-packages)\n",
      "WARNING: Ignoring invalid distribution -sgpack (c:\\programdata\\anaconda3\\lib\\site-packages)\n",
      "DEPRECATION: pyodbc 4.0.0-unsupported has a non-standard version number. pip 24.1 will enforce this behaviour change. A possible replacement is to upgrade to a newer version of pyodbc or contact the author to suggest that they release a version with a conforming version number. Discussion can be found at https://github.com/pypa/pip/issues/12063\n"
     ]
    }
   ],
   "source": [
    "pip install pydub\n"
   ]
  },
  {
   "cell_type": "code",
   "execution_count": null,
   "metadata": {},
   "outputs": [],
   "source": [
    "from TTS.api import TTS\n",
    "tts = TTS(model_name=\"tts_models/en/ljspeech/tacotron2-DDC\", progress_bar=False)\n",
    "tts.tts_to_file(text=\"Hello, how are you?\", file_path=\"output.wav\")\n"
   ]
  },
  {
   "cell_type": "code",
   "execution_count": 21,
   "metadata": {},
   "outputs": [
    {
     "name": "stdout",
     "output_type": "stream",
     "text": [
      "Plot saved as pitch_plot_parselmouth.png\n"
     ]
    },
    {
     "data": {
      "image/png": "[encoded data removed]",
      "text/plain": [
       "<Figure size 720x432 with 1 Axes>"
      ]
     },
     "metadata": {
      "needs_background": "light"
     },
     "output_type": "display_data"
    }
   ],
   "source": [
    "import parselmouth\n",
    "import numpy as np\n",
    "import matplotlib.pyplot as plt\n",
    "\n",
    "# 음성 파일 경로 설정\n",
    "file_path = \"entrepreneur.mp3\"\n",
    "\n",
    "# 음성 파일 로드\n",
    "snd = parselmouth.Sound(file_path)\n",
    "\n",
    "# 피치 추출\n",
    "pitch = snd.to_pitch()\n",
    "pitch_values = pitch.selected_array['frequency']  # Hz 단위 피치 값\n",
    "pitch_values[pitch_values == 0] = np.nan  # 무성구간을 NaN으로 표시하여 그래프에서 제외\n",
    "time_pitch = pitch.xs()  # 피치의 시간 값\n",
    "\n",
    "# 피치 그래프 그리기\n",
    "plt.figure(figsize=(10, 6))\n",
    "plt.plot(time_pitch, pitch_values, 'o', markersize=3, color='b')\n",
    "plt.xlabel(\"Time (s)\")\n",
    "plt.ylabel(\"Pitch (Hz)\")\n",
    "plt.title(\"Pitch over time\")\n",
    "plt.tight_layout()\n",
    "\n",
    "# 그래프를 이미지로 저장\n",
    "output_image_path = \"pitch_plot_parselmouth.png\"\n",
    "plt.savefig(output_image_path)\n",
    "print(f\"Plot saved as {output_image_path}\")\n",
    "\n",
    "# 그래프 출력\n",
    "plt.show()\n"
   ]
  },
  {
   "cell_type": "code",
   "execution_count": null,
   "metadata": {
    "scrolled": false
   },
   "outputs": [],
   "source": [
    "import librosa\n",
    "import numpy as np\n",
    "import matplotlib.pyplot as plt\n",
    "\n",
    "# 음성 파일 로드\n",
    "file_path = \"hello_ai.mp3\"\n",
    "y, sr = librosa.load(file_path)\n",
    "\n",
    "# 피치 추출\n",
    "pitches, magnitudes = librosa.core.piptrack(y=y, sr=sr)\n",
    "\n",
    "# 피치 데이터 정리 (최대 에너지인 주파수만 선택)\n",
    "pitch_values = []\n",
    "times = []\n",
    "\n",
    "for t in range(pitches.shape[1]):\n",
    "    index = magnitudes[:, t].argmax()  # 해당 프레임의 가장 큰 magnitude의 index\n",
    "    pitch = pitches[index, t]\n",
    "    if pitch > 0:  # 피치 값이 0보다 큰 경우만 저장\n",
    "        pitch_values.append(pitch)\n",
    "        times.append(t * (1.0 / sr))\n",
    "\n",
    "# 피치 그래프 그리기\n",
    "plt.figure(figsize=(10, 6))\n",
    "plt.plot(times, pitch_values, 'o', markersize=3, color='b')\n",
    "plt.xlabel(\"Time (s)\")\n",
    "plt.ylabel(\"Pitch (Hz)\")\n",
    "plt.title(\"Pitch over time\")\n",
    "plt.tight_layout()\n",
    "\n",
    "# 그래프를 이미지로 저장\n",
    "output_image_path = \"pitch_plot.png\"\n",
    "plt.savefig(output_image_path)\n",
    "print(f\"Plot saved as {output_image_path}\")\n",
    "\n",
    "# 그래프 출력\n",
    "plt.show()\n"
   ]
  },
  {
   "cell_type": "code",
   "execution_count": null,
   "metadata": {},
   "outputs": [],
   "source": [
    "time_intensity\n",
    "intensity_values"
   ]
  },
  {
   "cell_type": "code",
   "execution_count": null,
   "metadata": {
    "scrolled": false
   },
   "outputs": [],
   "source": [
    "import parselmouth\n",
    "from parselmouth.praat import call\n",
    "import matplotlib.pyplot as plt\n",
    "\n",
    "# 음성 파일 로드\n",
    "sound = parselmouth.Sound(\"hello_ai.mp3\")  # 파일 경로 설정\n",
    "\n",
    "# 포먼트 및 피치 분석\n",
    "formant = sound.to_formant_burg(time_step=0.01, max_number_of_formants=5)\n",
    "pitch = sound.to_pitch()  # 피치를 사용하여 유성구간 판별\n",
    "\n",
    "# 시간 축 데이터\n",
    "times = formant.xs()\n",
    "\n",
    "# 각 포먼트 데이터 추출 (유성구간에서만)\n",
    "formant_1 = []\n",
    "formant_2 = []\n",
    "formant_3 = []\n",
    "formant_4 = []\n",
    "formant_5 = []\n",
    "filtered_times = []\n",
    "\n",
    "# 피치 값이 존재하는 유성구간만 추출 (0.1초 여유)\n",
    "buffer_time = 0.01  # 0.1초 여유\n",
    "\n",
    "# 피치 값이 존재하는 시점 인덱스 찾기\n",
    "for i, t in enumerate(times):\n",
    "    if pitch.get_value_at_time(t) > 0:  # 피치가 0보다 크면 유성구간으로 간주\n",
    "        # 유성구간 주변의 포먼트 데이터 추가\n",
    "        start_time = max(0, t - buffer_time)\n",
    "        end_time = min(times[-1], t + buffer_time)\n",
    "\n",
    "        # 해당 구간의 포먼트 값을 추가\n",
    "        for j in range(len(times)):\n",
    "            if start_time <= times[j] <= end_time:\n",
    "                filtered_times.append(times[j])\n",
    "                formant_1.append(formant.get_value_at_time(1, times[j]))\n",
    "                formant_2.append(formant.get_value_at_time(2, times[j]))\n",
    "                formant_3.append(formant.get_value_at_time(3, times[j]))\n",
    "                formant_4.append(formant.get_value_at_time(4, times[j]))\n",
    "                formant_5.append(formant.get_value_at_time(5, times[j]))\n",
    "\n",
    "# 유성구간에서만 포먼트 데이터 출력\n",
    "plt.figure(figsize=(12, 20))\n",
    "\n",
    "plt.subplot(5, 1, 1)\n",
    "plt.scatter(filtered_times, formant_1, color=\"blue\", s=10)\n",
    "plt.ylabel(\"F1 (Hz)\")\n",
    "plt.title(\"Formant 1 (F1)\")\n",
    "\n",
    "plt.subplot(5, 1, 2)\n",
    "plt.scatter(filtered_times, formant_2, color=\"green\", s=10)\n",
    "plt.ylabel(\"F2 (Hz)\")\n",
    "plt.title(\"Formant 2 (F2)\")\n",
    "\n",
    "plt.subplot(5, 1, 3)\n",
    "plt.scatter(filtered_times, formant_3, color=\"red\", s=10)\n",
    "plt.ylabel(\"F3 (Hz)\")\n",
    "plt.title(\"Formant 3 (F3)\")\n",
    "\n",
    "plt.subplot(5, 1, 4)\n",
    "plt.scatter(filtered_times, formant_4, color=\"purple\", s=10)\n",
    "plt.ylabel(\"F4 (Hz)\")\n",
    "plt.title(\"Formant 4 (F4)\")\n",
    "\n",
    "plt.subplot(5, 1, 5)\n",
    "plt.scatter(filtered_times, formant_5, color=\"orange\", s=10)\n",
    "plt.xlabel(\"Time (s)\")\n",
    "plt.ylabel(\"F5 (Hz)\")\n",
    "plt.title(\"Formant 5 (F5)\")\n",
    "\n",
    "plt.tight_layout()\n",
    "plt.show()\n"
   ]
  },
  {
   "cell_type": "code",
   "execution_count": null,
   "metadata": {
    "scrolled": false
   },
   "outputs": [],
   "source": [
    "import parselmouth\n",
    "from parselmouth.praat import call\n",
    "import matplotlib.pyplot as plt\n",
    "\n",
    "# 음성 파일 로드\n",
    "sound = parselmouth.Sound(\"hasaga.wav\")  # 파일 경로 설정\n",
    "\n",
    "# 포먼트 및 피치 분석\n",
    "formant = sound.to_formant_burg(time_step=0.01, max_number_of_formants=5)\n",
    "pitch = sound.to_pitch()  # 피치를 사용하여 유성구간 판별\n",
    "\n",
    "# 시간 축 데이터\n",
    "times = formant.xs()\n",
    "\n",
    "# 각 포먼트 데이터 추출 (유성구간에서만)\n",
    "formant_1 = []\n",
    "formant_2 = []\n",
    "formant_3 = []\n",
    "formant_4 = []\n",
    "formant_5 = []\n",
    "filtered_times = []\n",
    "\n",
    "# 피치 값이 존재하는 유성구간만 추출\n",
    "for t in times:\n",
    "    if pitch.get_value_at_time(t) > 0:  # 피치가 0보다 크면 유성구간으로 간주\n",
    "        filtered_times.append(t)\n",
    "        formant_1.append(formant.get_value_at_time(1, t))\n",
    "        formant_2.append(formant.get_value_at_time(2, t))\n",
    "        formant_3.append(formant.get_value_at_time(3, t))\n",
    "        formant_4.append(formant.get_value_at_time(4, t))\n",
    "        formant_5.append(formant.get_value_at_time(5, t))\n",
    "\n",
    "# 유성구간에서만 포먼트 데이터 출력\n",
    "plt.figure(figsize=(12, 30))\n",
    "\n",
    "plt.subplot(5, 1, 1)\n",
    "plt.scatter(filtered_times, formant_1, color=\"blue\", s=10)\n",
    "plt.ylabel(\"F1 (Hz)\")\n",
    "plt.title(\"Formant 1 (F1)\")\n",
    "\n",
    "plt.subplot(5, 1, 2)\n",
    "plt.scatter(filtered_times, formant_2, color=\"green\", s=10)\n",
    "plt.ylabel(\"F2 (Hz)\")\n",
    "plt.title(\"Formant 2 (F2)\")\n",
    "\n",
    "plt.subplot(5, 1, 3)\n",
    "plt.scatter(filtered_times, formant_3, color=\"red\", s=10)\n",
    "plt.ylabel(\"F3 (Hz)\")\n",
    "plt.title(\"Formant 3 (F3)\")\n",
    "\n",
    "plt.subplot(5, 1, 4)\n",
    "plt.scatter(filtered_times, formant_4, color=\"purple\", s=10)\n",
    "plt.ylabel(\"F4 (Hz)\")\n",
    "plt.title(\"Formant 4 (F4)\")\n",
    "\n",
    "plt.subplot(5, 1, 5)\n",
    "plt.scatter(filtered_times, formant_5, color=\"orange\", s=10)\n",
    "plt.xlabel(\"Time (s)\")\n",
    "plt.ylabel(\"F5 (Hz)\")\n",
    "plt.title(\"Formant 5 (F5)\")\n",
    "\n",
    "plt.tight_layout()\n",
    "plt.show()\n"
   ]
  },
  {
   "cell_type": "code",
   "execution_count": null,
   "metadata": {
    "scrolled": false
   },
   "outputs": [],
   "source": [
    "import parselmouth\n",
    "from parselmouth.praat import call\n",
    "import matplotlib.pyplot as plt\n",
    "\n",
    "# 음성 파일 로드\n",
    "sound = parselmouth.Sound(\"hasaga.wav\")  # 파일 경로를 'hasaga.wav'로 설정\n",
    "\n",
    "# 포먼트 추출 (Burg 알고리즘 사용)\n",
    "formant = sound.to_formant_burg(time_step=0.01, max_number_of_formants=5)\n",
    "\n",
    "# 시간 축 데이터\n",
    "times = formant.xs()\n",
    "\n",
    "# 각 포먼트 데이터 추출 (F1, F2, F3, F4, F5)\n",
    "formant_1 = [formant.get_value_at_time(1, t) for t in times]\n",
    "formant_2 = [formant.get_value_at_time(2, t) for t in times]\n",
    "formant_3 = [formant.get_value_at_time(3, t) for t in times]\n",
    "formant_4 = [formant.get_value_at_time(4, t) for t in times]\n",
    "formant_5 = [formant.get_value_at_time(5, t) for t in times]\n",
    "\n",
    "# 그래프 그리기\n",
    "plt.figure(figsize=(12, 30))\n",
    "\n",
    "# F1 - F5를 각각 다른 서브플롯에 점(dot)으로 시각화\n",
    "plt.subplot(5, 1, 1)\n",
    "plt.scatter(times, formant_1, color=\"blue\", s=10)\n",
    "plt.ylabel(\"F1 (Hz)\")\n",
    "plt.title(\"Formant 1 (F1)\")\n",
    "\n",
    "plt.subplot(5, 1, 2)\n",
    "plt.scatter(times, formant_2, color=\"green\", s=10)\n",
    "plt.ylabel(\"F2 (Hz)\")\n",
    "plt.title(\"Formant 2 (F2)\")\n",
    "\n",
    "plt.subplot(5, 1, 3)\n",
    "plt.scatter(times, formant_3, color=\"red\", s=10)\n",
    "plt.ylabel(\"F3 (Hz)\")\n",
    "plt.title(\"Formant 3 (F3)\")\n",
    "\n",
    "plt.subplot(5, 1, 4)\n",
    "plt.scatter(times, formant_4, color=\"purple\", s=10)\n",
    "plt.ylabel(\"F4 (Hz)\")\n",
    "plt.title(\"Formant 4 (F4)\")\n",
    "\n",
    "plt.subplot(5, 1, 5)\n",
    "plt.scatter(times, formant_5, color=\"orange\", s=10)\n",
    "plt.xlabel(\"Time (s)\")\n",
    "plt.ylabel(\"F5 (Hz)\")\n",
    "plt.title(\"Formant 5 (F5)\")\n",
    "\n",
    "plt.tight_layout()\n",
    "plt.show()\n",
    "\n"
   ]
  }
 ],
 "metadata": {
  "kernelspec": {
   "display_name": "Python 3",
   "language": "python",
   "name": "python3"
  },
  "language_info": {
   "codemirror_mode": {
    "name": "ipython",
    "version": 3
   },
   "file_extension": ".py",
   "mimetype": "text/x-python",
   "name": "python",
   "nbconvert_exporter": "python",
   "pygments_lexer": "ipython3",
   "version": "3.7.6"
  }
 },
 "nbformat": 4,
 "nbformat_minor": 4
}
